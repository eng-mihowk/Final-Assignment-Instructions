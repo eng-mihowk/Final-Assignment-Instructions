{
 "cells": [
  {
   "cell_type": "markdown",
   "id": "971f4af2",
   "metadata": {},
   "source": [
    "# Data Science Tools and Ecosystem"
   ]
  },
  {
   "cell_type": "markdown",
   "id": "b9efd7cd",
   "metadata": {},
   "source": [
    "## In this notebook, Data Science Tools and Ecosystem are summarized."
   ]
  },
  {
   "cell_type": "markdown",
   "id": "7abe605b",
   "metadata": {},
   "source": [
    "### Some of the popular languages that Data Scientists use are:\n",
    "1. Python\n",
    "2. R language\n",
    "3. JavaScript"
   ]
  },
  {
   "cell_type": "markdown",
   "id": "6315f7f1",
   "metadata": {},
   "source": [
    "### List popular languages for Data Science\n",
    "\n",
    "**Objectives:**\n",
    "- Python\n",
    "- R language\n",
    "- JavaScript"
   ]
  },
  {
   "cell_type": "markdown",
   "id": "f514f3c6",
   "metadata": {},
   "source": [
    "### Some of the commonly used libraries used by Data Scientists include:\n",
    "\n",
    "1. SciPy\n",
    "2. NumPy\n",
    "3. TensorFlow"
   ]
  },
  {
   "cell_type": "markdown",
   "id": "fb791ab9",
   "metadata": {},
   "source": [
    "| Data Science Tools     |\n",
    "|----------|\n",
    "| Jupyter Notebooks    |\n",
    "| Apache Zeppelin    |\n",
    "| RStudio    |"
   ]
  },
  {
   "cell_type": "markdown",
   "id": "c4252ebd",
   "metadata": {},
   "source": [
    "### Below are a few examples of evaluating arithmetic expressions in Python"
   ]
  },
  {
   "cell_type": "code",
   "execution_count": 1,
   "id": "42688a63",
   "metadata": {},
   "outputs": [
    {
     "name": "stdout",
     "output_type": "stream",
     "text": [
      "17\n"
     ]
    }
   ],
   "source": [
    "# This a simple arithmetic expression to mutiply then add integers\n",
    "\n",
    "print((3*4)+5)"
   ]
  },
  {
   "cell_type": "code",
   "execution_count": 3,
   "id": "acbb7605",
   "metadata": {},
   "outputs": [
    {
     "name": "stdout",
     "output_type": "stream",
     "text": [
      "3.3333333333333335\n"
     ]
    }
   ],
   "source": [
    "# This will convert 200 minutes to hours by diving by 60\n",
    "\n",
    "def minutes_to_hours(minutes):\n",
    "    return minutes / 60\n",
    "\n",
    "# Example usage:\n",
    "print(minutes_to_hours(200))\n"
   ]
  },
  {
   "cell_type": "markdown",
   "id": "3828a5e5",
   "metadata": {},
   "source": [
    "## Author: Abdullah"
   ]
  },
  {
   "cell_type": "code",
   "execution_count": null,
   "id": "369ba5a4",
   "metadata": {},
   "outputs": [],
   "source": []
  }
 ],
 "metadata": {
  "kernelspec": {
   "display_name": "Python 3 (ipykernel)",
   "language": "python",
   "name": "python3"
  },
  "language_info": {
   "codemirror_mode": {
    "name": "ipython",
    "version": 3
   },
   "file_extension": ".py",
   "mimetype": "text/x-python",
   "name": "python",
   "nbconvert_exporter": "python",
   "pygments_lexer": "ipython3",
   "version": "3.11.5"
  }
 },
 "nbformat": 4,
 "nbformat_minor": 5
}
